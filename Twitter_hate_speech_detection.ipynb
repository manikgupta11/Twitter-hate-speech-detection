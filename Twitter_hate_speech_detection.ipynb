{
  "nbformat": 4,
  "nbformat_minor": 0,
  "metadata": {
    "kernelspec": {
      "display_name": "Python 3",
      "language": "python",
      "name": "python3"
    },
    "language_info": {
      "codemirror_mode": {
        "name": "ipython",
        "version": 3
      },
      "file_extension": ".py",
      "mimetype": "text/x-python",
      "name": "python",
      "nbconvert_exporter": "python",
      "pygments_lexer": "ipython3",
      "version": "3.6.9"
    },
    "colab": {
      "name": "q1_assg4.ipynb",
      "provenance": []
    }
  },
  "cells": [
    {
      "cell_type": "markdown",
      "metadata": {
        "id": "yjM5-_n68tsP"
      },
      "source": [
        "# Importing libraries"
      ]
    },
    {
      "cell_type": "code",
      "metadata": {
        "id": "PEBYR0GC8tsS"
      },
      "source": [
        "import pandas as pd\n",
        "import numpy as np\n",
        "from sklearn.model_selection import train_test_split\n",
        "from nltk.stem import WordNetLemmatizer\n",
        "from sklearn.feature_extraction.text import TfidfVectorizer\n",
        "from nltk.stem.wordnet import WordNetLemmatizer\n",
        "from nltk.stem import SnowballStemmer\n",
        "import sklearn\n",
        "import string\n",
        "import re"
      ],
      "execution_count": null,
      "outputs": []
    },
    {
      "cell_type": "markdown",
      "metadata": {
        "id": "ZlHbsudP8tsZ"
      },
      "source": [
        "# Visualizing dataset"
      ]
    },
    {
      "cell_type": "code",
      "metadata": {
        "id": "sEK7x4Yp8tsb",
        "outputId": "834be21e-fa3e-4c8d-8aaf-22a5d06a53b1"
      },
      "source": [
        "df=pd.read_csv(\"train.csv\")\n",
        "df.head()"
      ],
      "execution_count": null,
      "outputs": [
        {
          "output_type": "execute_result",
          "data": {
            "text/html": [
              "<div>\n",
              "<style scoped>\n",
              "    .dataframe tbody tr th:only-of-type {\n",
              "        vertical-align: middle;\n",
              "    }\n",
              "\n",
              "    .dataframe tbody tr th {\n",
              "        vertical-align: top;\n",
              "    }\n",
              "\n",
              "    .dataframe thead th {\n",
              "        text-align: right;\n",
              "    }\n",
              "</style>\n",
              "<table border=\"1\" class=\"dataframe\">\n",
              "  <thead>\n",
              "    <tr style=\"text-align: right;\">\n",
              "      <th></th>\n",
              "      <th>text</th>\n",
              "      <th>labels</th>\n",
              "    </tr>\n",
              "  </thead>\n",
              "  <tbody>\n",
              "    <tr>\n",
              "      <th>0</th>\n",
              "      <td>@realDonaldTrump This is one of the worst time...</td>\n",
              "      <td>0</td>\n",
              "    </tr>\n",
              "    <tr>\n",
              "      <th>1</th>\n",
              "      <td>How about the crowd in Oval in today's #AUSvIN...</td>\n",
              "      <td>1</td>\n",
              "    </tr>\n",
              "    <tr>\n",
              "      <th>2</th>\n",
              "      <td>@skroskz @shossy2 @JoeBiden Biden &amp;amp; his so...</td>\n",
              "      <td>0</td>\n",
              "    </tr>\n",
              "    <tr>\n",
              "      <th>3</th>\n",
              "      <td>#etsy shop: Benedict Donald so called presiden...</td>\n",
              "      <td>1</td>\n",
              "    </tr>\n",
              "    <tr>\n",
              "      <th>4</th>\n",
              "      <td>@realDonaldTrump Good build a wall around Arka...</td>\n",
              "      <td>0</td>\n",
              "    </tr>\n",
              "  </tbody>\n",
              "</table>\n",
              "</div>"
            ],
            "text/plain": [
              "                                                text  labels\n",
              "0  @realDonaldTrump This is one of the worst time...       0\n",
              "1  How about the crowd in Oval in today's #AUSvIN...       1\n",
              "2  @skroskz @shossy2 @JoeBiden Biden &amp; his so...       0\n",
              "3  #etsy shop: Benedict Donald so called presiden...       1\n",
              "4  @realDonaldTrump Good build a wall around Arka...       0"
            ]
          },
          "metadata": {
            "tags": []
          },
          "execution_count": 75
        }
      ]
    },
    {
      "cell_type": "code",
      "metadata": {
        "id": "tF-WJF_j8tsj",
        "outputId": "c32f0403-d35d-458b-b602-54a135c6b151"
      },
      "source": [
        "print(\"Hate speech labels count:\",df[\"labels\"].value_counts()[0])\n",
        "print(\"Not Hate speech labels count:\",df[\"labels\"].value_counts()[1])"
      ],
      "execution_count": null,
      "outputs": [
        {
          "output_type": "stream",
          "text": [
            "Hate speech labels count: 2031\n",
            "Not Hate speech labels count: 3235\n"
          ],
          "name": "stdout"
        }
      ]
    },
    {
      "cell_type": "markdown",
      "metadata": {
        "id": "jbe1mvgZ8tso"
      },
      "source": [
        "### Since classes are not balanced, F1 score would be better metric to evaluate our model"
      ]
    },
    {
      "cell_type": "markdown",
      "metadata": {
        "id": "KG-mRiG68tsp"
      },
      "source": [
        "# Train Test split"
      ]
    },
    {
      "cell_type": "code",
      "metadata": {
        "id": "aA3PMBar8tsq"
      },
      "source": [
        "y=df[\"labels\"].values\n",
        "x=df[\"text\"].values\n",
        "x_train,x_test,y_train,y_test=train_test_split(x,y,test_size=0.2, random_state=3)\n",
        "x_test_2=x_test.copy()"
      ],
      "execution_count": null,
      "outputs": []
    },
    {
      "cell_type": "markdown",
      "metadata": {
        "id": "zS103-sL8tsv"
      },
      "source": [
        "# Prepeocessing:\n",
        "- Convert to lowercase\n",
        "- Remove URL\n",
        "- Remove digits\n",
        "- Remove mentions\n",
        "- Apply lemmatizer\n",
        "- Apply stemmer\n",
        "- Remove punctuation"
      ]
    },
    {
      "cell_type": "code",
      "metadata": {
        "id": "80lqPGJK8tsw"
      },
      "source": [
        "def preprocess(text_string):\n",
        "    text_string=text_string.lower()\n",
        "    mention_regex = '@[\\w\\-]+'\n",
        "    url_regex = ('http[s]?://(?:[a-zA-Z]|[0-9]|[$-_@.&+]|'\n",
        "        '[!*\\(\\),]|(?:%[0-9a-fA-F][0-9a-fA-F]))+')\n",
        "    parsed_text = re.sub(url_regex, '', text_string)\n",
        "    parsed_text=re.sub(pattern=r\"\\d\", repl=r\" \", string=parsed_text)\n",
        "    parsed_text = re.sub(mention_regex, '', parsed_text)\n",
        "    return parsed_text\n",
        "\n",
        "def stemming(x):\n",
        "    st = WordNetLemmatizer()\n",
        "    words=x.strip().split()\n",
        "    from nltk.stem import PorterStemmer\n",
        "    st2 = PorterStemmer()\n",
        "    from nltk.corpus import stopwords\n",
        "    sw=set(stopwords.words('english'))\n",
        "    ans=[st.lemmatize(x) for x in words if x not in sw]\n",
        "    return [st2.stem(x) for x in ans]\n",
        "def remove_special_char(x):\n",
        "    punc = string.punctuation\n",
        "    punc = punc.replace(\"'\", \"\")\n",
        "    pat= r\"[{}]\".format(punc)\n",
        "    x=re.sub(pat, \" \", x)\n",
        "    return x"
      ],
      "execution_count": null,
      "outputs": []
    },
    {
      "cell_type": "code",
      "metadata": {
        "id": "HOESfaeb8ts0",
        "outputId": "54f27c8d-be4b-4c1e-da11-02240adc1674"
      },
      "source": [
        "print(\"Train samples: \",x_train.shape)\n",
        "print(\"Test samples: \",x_test.shape)"
      ],
      "execution_count": null,
      "outputs": [
        {
          "output_type": "stream",
          "text": [
            "Train samples:  (4212,)\n",
            "Test samples:  (1054,)\n"
          ],
          "name": "stdout"
        }
      ]
    },
    {
      "cell_type": "markdown",
      "metadata": {
        "id": "Y2SsX6o38ts5"
      },
      "source": [
        "# Apply prepeocesing"
      ]
    },
    {
      "cell_type": "code",
      "metadata": {
        "id": "qJovFTbH8ts6",
        "outputId": "c4281d58-8d20-4b45-fdc3-322084b3b83a"
      },
      "source": [
        "print(\"Before preprocessing:\")\n",
        "print(x_train[2])\n",
        "for i in range(len(x_train)):\n",
        "    x_train[i]=preprocess(x_train[i])\n",
        "    x_train[i]=remove_special_char(x_train[i])\n",
        "    x_train[i]=\" \".join(stemming(x_train[i]))\n",
        "    \n",
        "for i in range(len(x_test)):\n",
        "    x_test[i]=preprocess(x_test[i])\n",
        "    x_test[i]=remove_special_char(x_test[i])\n",
        "    x_test[i]=\" \".join(stemming(x_test[i]))\n",
        "print(\"After preprocessing:\")\n",
        "print(x_train[2])"
      ],
      "execution_count": null,
      "outputs": [
        {
          "output_type": "stream",
          "text": [
            "Before preprocessing:\n",
            "'Dhoni will always be my Captain' - 7th time so far Kohli has said these lines since Dhoni stepped down from Captaincy !!!!💗💗💗  @ChennaiIPL @imVkohli @msdhoni #IndiaWithDhoni #DhoniKeepTheGlove #DhoniKeepsTheGlove #ICCCricketWorldCup2019 https://t.co/u7Pfr9WBJA\n",
            "After preprocessing:\n",
            "'dhoni alway captain' th time far kohli said line sinc dhoni step captainci 💗💗💗 indiawithdhoni dhonikeeptheglov dhonikeepstheglov icccricketworldcup\n"
          ],
          "name": "stdout"
        }
      ]
    },
    {
      "cell_type": "markdown",
      "metadata": {
        "id": "R02SWZsh8ts_"
      },
      "source": [
        "# Applying TFIDF vectorizer"
      ]
    },
    {
      "cell_type": "code",
      "metadata": {
        "id": "z5vbVUJy8ttA"
      },
      "source": [
        "vectorizer = TfidfVectorizer(stop_words='english',ngram_range=(1,2))\n",
        "vectorizer.fit(x_train)\n",
        "x_train = vectorizer.transform(x_train)\n",
        "x_test= vectorizer.transform(x_test)"
      ],
      "execution_count": null,
      "outputs": []
    },
    {
      "cell_type": "markdown",
      "metadata": {
        "id": "3AGdC_rA8ttD"
      },
      "source": [
        "# Using support vector classifier"
      ]
    },
    {
      "cell_type": "code",
      "metadata": {
        "id": "0pxNaOXz8ttE"
      },
      "source": [
        "from sklearn.svm import SVC\n",
        "clf = SVC()\n",
        "clf.fit(x_train, y_train)\n",
        "y_pred=clf.predict(x_test)"
      ],
      "execution_count": null,
      "outputs": []
    },
    {
      "cell_type": "markdown",
      "metadata": {
        "id": "HcGOlfZR8ttH"
      },
      "source": [
        "# Evaluation Metrics"
      ]
    },
    {
      "cell_type": "code",
      "metadata": {
        "id": "uL7laLSc8ttI",
        "outputId": "6c507970-13d9-4fd9-fe1b-3ae61a072f86"
      },
      "source": [
        "print(\"accuracy: \",sklearn.metrics.accuracy_score(y_pred,y_test))\n",
        "print(\"f1 score: \",sklearn.metrics.f1_score(y_pred,y_test))\n",
        "print(\"matrix:\\n\",sklearn.metrics.confusion_matrix(y_pred,y_test))  "
      ],
      "execution_count": null,
      "outputs": [
        {
          "output_type": "stream",
          "text": [
            "accuracy:  0.6802656546489564\n",
            "f1 score:  0.7887147335423198\n",
            "matrix:\n",
            " [[ 88  35]\n",
            " [302 629]]\n"
          ],
          "name": "stdout"
        }
      ]
    },
    {
      "cell_type": "markdown",
      "metadata": {
        "id": "jKsp03ln8ttL"
      },
      "source": [
        "# Visualizing predictions"
      ]
    },
    {
      "cell_type": "code",
      "metadata": {
        "id": "b1uxx-HX8ttM",
        "outputId": "8a625925-f667-4fed-928f-2433e932e265"
      },
      "source": [
        "for i in range(3):\n",
        "    print(x_test_2[i])\n",
        "    if(y_pred[i]==0):\n",
        "        print(\"Prediction: hate\")\n",
        "    else:\n",
        "        print(\"Prediction: not hate\")\n",
        "    if(y_test[i]==0):\n",
        "        print(\"Actual: hate\")\n",
        "    else:\n",
        "        print(\"Actual: not hate\")\n",
        "    print()"
      ],
      "execution_count": null,
      "outputs": [
        {
          "output_type": "stream",
          "text": [
            "'WE THE PEOPLE'                   👀  ⬇⬇⬇⬇⬇⬇⬇⬇   #HongKongProtest                   💪  ⬇⬇⬇⬇⬇⬇⬇⬇  #TheResistance  #ResistersForum  #PeoplesMarch                   ✊  ⬇⬇⬇⬇⬇⬇⬇⬇  #trumpCrimeFamily  #trumpIsACriminal  #trumpIsATraitor   #trumpObstructedJustice  #LiarInChief\n",
            "Prediction: not hate\n",
            "Actual: not hate\n",
            "\n",
            "My b-day wish for @realDonaldTrump? May he choke on the most beautiful cake the world has ever seen!  #JohnMcCainDay   #ImpeachTrumpNow   #TrumpIsATraitor https://t.co/c8LnBYBAFq\n",
            "Prediction: not hate\n",
            "Actual: not hate\n",
            "\n",
            "#Dickhead  Don't be one.   I give you mfs 1 minute of conversation followed by 4 minutes of laughter.  Foh &amp;  Good Day https://t.co/5isPM1bEhc\n",
            "Prediction: not hate\n",
            "Actual: hate\n",
            "\n"
          ],
          "name": "stdout"
        }
      ]
    }
  ]
}